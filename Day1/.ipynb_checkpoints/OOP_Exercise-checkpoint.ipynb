{
 "cells": [
  {
   "cell_type": "markdown",
   "metadata": {},
   "source": [
    "# Exercise: Building a flashcard study tool"
   ]
  },
  {
   "cell_type": "markdown",
   "metadata": {},
   "source": [
    "In this exercise, we will be using object-oriented programming to build a flashcard study tool.\n",
    "\n",
    "1. The minimal version of this tool will provide functionality to:\n",
    "- review a deck of flashcards within a \"quiz session\"\n",
    "- view your score at the end of the quiz session\n",
    "- track your scores over all your sessions\n",
    "\n",
    "2. You can expand it by adding the optional advanced features, such as:\n",
    "- providing command-line interfaces for creating, editing, and deleting flashcards\n",
    "- providing command-line interfaces managing multiple decks\n",
    "- implementing spaced repetition\n",
    "\n",
    "3. Optionally, you can use this as an opportunity to practice the Model-View-Controller (MVC) design pattern, too.\n",
    "\n",
    "We'll start out by writing the minimal version, one class at a time. If you're feeling like a challenge, try taking a few minutes beforehand to sketch out your own set of classes and what data and functionality they'll need."
   ]
  },
  {
   "cell_type": "markdown",
   "metadata": {},
   "source": [
    "## Step 1: Define the Flashcard Class\n",
    "_→ Create a class & manage data with attributes._\n",
    "\n",
    "**Instructions**:\n",
    "- Create a `Flashcard` class.\n",
    "- Add `question`, `answer`, `options`, and `q_type` attributes.\n",
    "  - (`q_type` being an attribute that can be set to values such as `\"multiple_choice\"` or `\"free_type\"`, for example)\n",
    "- Define an `__init__` method to initialize these attributes.\n",
    "- Implement a `display` method to print the question and options (if any).\n",
    "- Implement a `check_answer` method to validate the user's answer."
   ]
  },
  {
   "cell_type": "code",
   "execution_count": 2,
   "metadata": {},
   "outputs": [],
   "source": [
    "# Step 1: Flashcard class - your code here!"
   ]
  },
  {
   "cell_type": "code",
   "execution_count": 9,
   "metadata": {},
   "outputs": [
    {
     "name": "stdout",
     "output_type": "stream",
     "text": [
      "Question: Which pillar of OOP creates hierarchy and allows code reuse?\n",
      "All tests passed!\n"
     ]
    }
   ],
   "source": [
    "# Example Usage:\n",
    "\n",
    "my_flashcard = Flashcard(\"Which pillar of OOP creates hierarchy and allows code reuse?\", \"Inheritance\")\n",
    "my_flashcard.display()\n",
    "\n",
    "# Test the display and check_answer methods\n",
    "assert my_flashcard.check_answer(\"Inheritance\") == True, \"Test failed: Expected True for correct answer.\"\n",
    "assert my_flashcard.check_answer(\"inheritance\") == True, \"Test failed: Expected True for case-insensitive check.\"\n",
    "assert my_flashcard.check_answer(\"Encapsulation\") == False, \"Test failed: Expected False for incorrect answer.\"\n",
    "\n",
    "print(\"All tests passed!\")\n"
   ]
  },
  {
   "cell_type": "markdown",
   "metadata": {},
   "source": [
    "## Step 2: Define the Deck Class\n",
    "_→ Manage collections of objects & implement methods to manipulate these collections._\n",
    "\n",
    "**Instructions**:\n",
    "- Create a `Deck` class.\n",
    "- Add a `flashcards` attribute to store a list of `Flashcard` objects.\n",
    "- Define methods to add and remove flashcards (`add_flashcard` and `remove_flashcard`).\n",
    "- Implement a method to get a random flashcard (`get_random_flashcard`).\n",
    "- (Optional) Implement a method to review all flashcards (`review_flashcards`)."
   ]
  },
  {
   "cell_type": "code",
   "execution_count": null,
   "metadata": {},
   "outputs": [],
   "source": [
    "# Step 2: Deck class - your code here!"
   ]
  },
  {
   "cell_type": "code",
   "execution_count": null,
   "metadata": {},
   "outputs": [],
   "source": [
    "# Example Usage for Deck class:\n",
    "\n",
    "deck = Deck()\n",
    "flashcard1 = Flashcard(\"Which pillar of OOP allows objects to be used interchangeably?\", \"Polymorphism\")\n",
    "flashcard2 = Flashcard(\"Which pillar of OOP involves hiding the internal state of objects?\", \"Encapsulation\", [\"Abstraction\", \"Encapsulation\", \"Inheritance\", \"Polymorphism\"], q_type='multiple_choice')\n",
    "deck.add_flashcard(flashcard1)\n",
    "deck.add_flashcard(flashcard2)\n",
    "\n",
    "# Test adding and reviewing flashcards\n",
    "assert len(deck.flashcards) == 2, \"Test failed: Expected 2 flashcards in the deck.\"\n",
    "\n",
    "print(\"Flashcards in the deck:\")\n",
    "deck.review_flashcards()\n",
    "\n",
    "# Test getting a random flashcard\n",
    "random_flashcard = deck.get_random_flashcard()\n",
    "print(\"\\nRandom flashcard:\")\n",
    "random_flashcard.display()\n",
    "\n",
    "deck.remove_flashcard(flashcard1)\n",
    "assert len(deck.flashcards) == 1, \"Test failed: Expected 1 flashcard in the deck after removal.\"\n",
    "\n",
    "print(\"All tests passed!\")"
   ]
  },
  {
   "cell_type": "markdown",
   "metadata": {},
   "source": [
    "## Step 3: Define the QuizSession Class\n",
    "_→ Handle interactions & maintain state within a session._\n",
    "\n",
    "**Instructions**:\n",
    "- Create a `QuizSession` class.\n",
    "- Add attributes for `deck`, `score`, and `questions_asked`.\n",
    "- Implement a method to start the quiz session (`start_session`), asking questions until the user decides to stop.\n",
    "- Implement a method to show the current score (`show_score`).\n",
    "\n",
    "**Command Line Input:** \n",
    "- The function `input(\"(some question) \")` displays a prompt on the command line and waits for the user to enter their response. It then returns the user's input as a string.\n",
    "- Using `input` within a while loop enables continuous interaction with the user,\n",
    "- To help get you started, we've included a template for what your `start_session` could look like:"
   ]
  },
  {
   "cell_type": "code",
   "execution_count": null,
   "metadata": {},
   "outputs": [],
   "source": [
    "def start_session(self):\n",
    "    while True: # loop until we no longer want to be interacting with user input\n",
    "\n",
    "        # set up the flashcard\n",
    "\n",
    "        user_answer = input(\"Your answer: \")\n",
    "\n",
    "        # do something about the answer\n",
    "\n",
    "        if input(\"Do you want to continue? (y/n): \").lower() != 'y':\n",
    "            break\n",
    "    self.show_score()"
   ]
  },
  {
   "cell_type": "code",
   "execution_count": null,
   "metadata": {},
   "outputs": [],
   "source": [
    "# Step 3: QuizSession class - your code here!"
   ]
  },
  {
   "cell_type": "code",
   "execution_count": null,
   "metadata": {},
   "outputs": [],
   "source": [
    "# Example Usage for QuizSession class:\n",
    "\n",
    "deck = Deck()\n",
    "deck.add_flashcard(Flashcard(\"Which pillar of OOP allows different objects to be treated as instances of the same class?\", \"Polymorphism\"))\n",
    "deck.add_flashcard(Flashcard(\"Which pillar of OOP involves hiding the internal state of objects?\", \"Encapsulation\", [\"Abstraction\", \"Encapsulation\", \"Inheritance\", \"Polymorphism\"], q_type='multiple_choice'))\n",
    "\n",
    "quiz_session = QuizSession(deck)\n",
    "quiz_session.start_session()\n",
    "\n",
    "# This is an interactive session, so manually check the score display at the end."
   ]
  },
  {
   "cell_type": "markdown",
   "metadata": {},
   "source": [
    "## Step 4: Implement Score Tracking\n",
    "_→ Add persistent state & basic record keeping._\n",
    "\n",
    "**Instructions**:\n",
    "- Create a `ScoreTracker` class.\n",
    "- Add an attribute to store scores (`scores`).\n",
    "- Implement methods to record scores (`record_score`) and display score history (`display_scores`).\n"
   ]
  },
  {
   "cell_type": "code",
   "execution_count": null,
   "metadata": {},
   "outputs": [],
   "source": [
    "# Step 4: ScoreTracker class - your code here!"
   ]
  },
  {
   "cell_type": "code",
   "execution_count": 3,
   "metadata": {},
   "outputs": [],
   "source": [
    "from datetime import datetime\n",
    "\n",
    "class ScoreTracker:\n",
    "    def __init__(self):\n",
    "        self.scores = []\n",
    "\n",
    "    def record_score(self, score):\n",
    "        self.scores.append((datetime.now(), score))\n",
    "\n",
    "    def display_scores(self):\n",
    "        for date, score in self.scores:\n",
    "            print(f\"{date}: {score}\")"
   ]
  },
  {
   "cell_type": "code",
   "execution_count": null,
   "metadata": {},
   "outputs": [],
   "source": [
    "# Example Usage for ScoreTracker class:\n",
    "\n",
    "tracker = ScoreTracker()\n",
    "tracker.record_score(5)\n",
    "tracker.record_score(8)\n",
    "\n",
    "# Test recording and displaying scores\n",
    "assert len(tracker.scores) == 2, \"Test failed: Expected 2 recorded scores.\"\n",
    "\n",
    "print(\"Score history:\")\n",
    "tracker.display_scores()\n",
    "\n",
    "print(\"All tests passed!\")"
   ]
  },
  {
   "cell_type": "markdown",
   "metadata": {},
   "source": [
    "## Step 5: Putting It All Together\n",
    "_→ Integrate the components and create a simple user interface._\n",
    "\n",
    "**Instructions**:\n",
    "- Create instances of Deck and ScoreTracker.\n",
    "- Add a few flashcards to the deck.\n",
    "- Start a quiz session.\n",
    "- Record the score at the end of the session.\n",
    "- Display the score history."
   ]
  },
  {
   "cell_type": "code",
   "execution_count": 6,
   "metadata": {},
   "outputs": [],
   "source": [
    "if __name__ == \"__main__\":\n",
    "    # your code here!"
   ]
  },
  {
   "cell_type": "markdown",
   "metadata": {},
   "source": [
    "## Optional Next Steps\n",
    "### Step 6: Adding Flashcard Management\n",
    "Allow users to create, edit, and delete flashcards via the command line.\n",
    "\n",
    "**Instructions**:\n",
    "- Create a `FlashcardManager` class.\n",
    "- Implement methods to create (`create_flashcard`), edit (`edit_flashcard`), and delete (`delete_flashcard`) flashcards.\n",
    "- Integrate these methods into the main application loop.\n",
    "\n",
    "\n",
    "### Step 7: Implementing Spaced Repetition\n",
    "Enhance the quiz functionality with spaced repetition logic.\n",
    "\n",
    "**Instructions**:\n",
    "- Create a `SpacedRepetitionDeck` class that inherits from `Deck`.\n",
    "- Override the method to get the next flashcard (`get_next_flashcard`).\n",
    "- Integrate this class into the main application.\n",
    "\n",
    "### Step 8: Get Creative\n",
    "Think about anything else you might add. \n",
    "- Record scores in a separate file, so you can see trends over time. Would you want to visualize this, as well?\n",
    "- Allow users to import their own flashcard decks from eg, csv files. Allow them to save their decks this way, too.\n",
    "- Maybe you want to let users edit flashcards or decks from the command line?\n",
    "- Whatever you like! ¯\\\\\\_(ツ)\\_/¯"
   ]
  }
 ],
 "metadata": {
  "kernelspec": {
   "display_name": "Python 3 (ipykernel)",
   "language": "python",
   "name": "python3"
  },
  "language_info": {
   "codemirror_mode": {
    "name": "ipython",
    "version": 3
   },
   "file_extension": ".py",
   "mimetype": "text/x-python",
   "name": "python",
   "nbconvert_exporter": "python",
   "pygments_lexer": "ipython3",
   "version": "3.9.16"
  }
 },
 "nbformat": 4,
 "nbformat_minor": 2
}

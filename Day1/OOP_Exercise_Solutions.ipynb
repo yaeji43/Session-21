{
 "cells": [
  {
   "cell_type": "markdown",
   "metadata": {},
   "source": [
    "# Solutions for \"Exercise: Building a flashcard study tool\""
   ]
  },
  {
   "cell_type": "markdown",
   "metadata": {},
   "source": [
    "## Flashcard class"
   ]
  },
  {
   "cell_type": "code",
   "execution_count": null,
   "metadata": {},
   "outputs": [],
   "source": [
    "class Flashcard:\n",
    "    def __init__(self, question, answer, options=None, q_type='text'):\n",
    "        self.question = question\n",
    "        self.answer = answer\n",
    "        self.options = options\n",
    "        self.q_type = q_type\n",
    "\n",
    "    def display(self):\n",
    "        print(f\"Question: {self.question}\")\n",
    "        if self.q_type == 'multiple_choice' and self.options:\n",
    "            for i, option in enumerate(self.options, 1):\n",
    "                print(f\"{i}. {option}\")\n",
    "\n",
    "    def check_answer(self, user_answer):\n",
    "        return user_answer.lower() == self.answer.lower()\n"
   ]
  },
  {
   "cell_type": "code",
   "execution_count": null,
   "metadata": {},
   "outputs": [],
   "source": [
    "# Example Usage:\n",
    "\n",
    "my_flashcard = Flashcard(\"Which pillar of OOP creates hierarchy and allows code reuse?\", \"Inheritance\")\n",
    "my_flashcard.display()\n",
    "\n",
    "# Test the display and check_answer methods\n",
    "assert my_flashcard.check_answer(\"Inheritance\") == True, \"Test failed: Expected True for correct answer.\"\n",
    "assert my_flashcard.check_answer(\"inheritance\") == True, \"Test failed: Expected True for case-insensitive check.\"\n",
    "assert my_flashcard.check_answer(\"Encapsulation\") == False, \"Test failed: Expected False for incorrect answer.\"\n",
    "\n",
    "print(\"All tests passed!\")"
   ]
  },
  {
   "cell_type": "markdown",
   "metadata": {},
   "source": [
    "## Deck class"
   ]
  },
  {
   "cell_type": "code",
   "execution_count": null,
   "metadata": {},
   "outputs": [],
   "source": [
    "import random\n",
    "\n",
    "class Deck:\n",
    "    def __init__(self):\n",
    "        self.flashcards = []\n",
    "\n",
    "    def add_flashcard(self, flashcard):\n",
    "        self.flashcards.append(flashcard)\n",
    "\n",
    "    def remove_flashcard(self, flashcard):\n",
    "        self.flashcards.remove(flashcard)\n",
    "\n",
    "    def get_random_flashcard(self):\n",
    "        return random.choice(self.flashcards)\n",
    "\n",
    "    def review_flashcards(self):\n",
    "        for card in self.flashcards:\n",
    "            card.display()"
   ]
  },
  {
   "cell_type": "code",
   "execution_count": null,
   "metadata": {},
   "outputs": [],
   "source": [
    "# Example Usage for Deck class:\n",
    "\n",
    "deck = Deck()\n",
    "flashcard1 = Flashcard(\"Which pillar of OOP allows objects to be used interchangeably?\", \"Polymorphism\")\n",
    "flashcard2 = Flashcard(\"Which pillar of OOP involves hiding the internal state of objects?\", \"Encapsulation\", [\"Abstraction\", \"Encapsulation\", \"Inheritance\", \"Polymorphism\"], q_type='multiple_choice')\n",
    "deck.add_flashcard(flashcard1)\n",
    "deck.add_flashcard(flashcard2)\n",
    "\n",
    "# Test adding and reviewing flashcards\n",
    "assert len(deck.flashcards) == 2, \"Test failed: Expected 2 flashcards in the deck.\"\n",
    "\n",
    "print(\"Flashcards in the deck:\")\n",
    "deck.review_flashcards()\n",
    "\n",
    "# Test getting a random flashcard\n",
    "random_flashcard = deck.get_random_flashcard()\n",
    "print(\"\\nRandom flashcard:\")\n",
    "random_flashcard.display()\n",
    "\n",
    "deck.remove_flashcard(flashcard1)\n",
    "assert len(deck.flashcards) == 1, \"Test failed: Expected 1 flashcard in the deck after removal.\"\n",
    "\n",
    "print(\"All tests passed!\")"
   ]
  },
  {
   "cell_type": "markdown",
   "metadata": {},
   "source": [
    "## QuizSession class"
   ]
  },
  {
   "cell_type": "code",
   "execution_count": null,
   "metadata": {},
   "outputs": [],
   "source": [
    "class QuizSession:\n",
    "    def __init__(self, deck):\n",
    "        self.deck = deck\n",
    "        self.score = 0\n",
    "        self.questions_asked = []\n",
    "\n",
    "    def start_session(self):\n",
    "        while True:\n",
    "            flashcard = self.deck.get_random_flashcard()\n",
    "            flashcard.display()\n",
    "            user_answer = input(\"Your answer: \")\n",
    "            if flashcard.check_answer(user_answer):\n",
    "                print(\"Correct!\")\n",
    "                self.score += 1\n",
    "            else:\n",
    "                print(f\"Incorrect! The correct answer was: {flashcard.answer}\")\n",
    "            self.questions_asked.append(flashcard)\n",
    "            if input(\"Do you want to continue? (y/n): \").lower() != 'y':\n",
    "                break\n",
    "        self.show_score()\n",
    "\n",
    "    def show_score(self):\n",
    "        print(f\"Your final score is: {self.score}\")\n"
   ]
  },
  {
   "cell_type": "code",
   "execution_count": null,
   "metadata": {},
   "outputs": [],
   "source": [
    "# Example Usage for QuizSession class:\n",
    "\n",
    "deck = Deck()\n",
    "deck.add_flashcard(Flashcard(\"Which pillar of OOP allows different objects to be treated as instances of the same class?\", \"Polymorphism\"))\n",
    "deck.add_flashcard(Flashcard(\"Which pillar of OOP involves hiding the internal state of objects?\", \"Encapsulation\", [\"Abstraction\", \"Encapsulation\", \"Inheritance\", \"Polymorphism\"], q_type='multiple_choice'))\n",
    "\n",
    "quiz_session = QuizSession(deck)\n",
    "quiz_session.start_session()\n",
    "\n",
    "# This is an interactive session, so manually check the score display at the end."
   ]
  },
  {
   "cell_type": "markdown",
   "metadata": {},
   "source": [
    "## ScoreTracker class"
   ]
  },
  {
   "cell_type": "code",
   "execution_count": null,
   "metadata": {},
   "outputs": [],
   "source": [
    "from datetime import datetime\n",
    "\n",
    "class ScoreTracker:\n",
    "    def __init__(self):\n",
    "        self.scores = []\n",
    "\n",
    "    def record_score(self, score):\n",
    "        self.scores.append((datetime.now(), score))\n",
    "\n",
    "    def display_scores(self):\n",
    "        for date, score in self.scores:\n",
    "            print(f\"{date}: {score}\")"
   ]
  },
  {
   "cell_type": "code",
   "execution_count": null,
   "metadata": {},
   "outputs": [],
   "source": [
    "# Example Usage for ScoreTracker class:\n",
    "\n",
    "tracker = ScoreTracker()\n",
    "tracker.record_score(5)\n",
    "tracker.record_score(8)\n",
    "\n",
    "# Test recording and displaying scores\n",
    "assert len(tracker.scores) == 2, \"Test failed: Expected 2 recorded scores.\"\n",
    "\n",
    "print(\"Score history:\")\n",
    "tracker.display_scores()\n",
    "\n",
    "print(\"All tests passed!\")\n"
   ]
  },
  {
   "cell_type": "markdown",
   "metadata": {},
   "source": [
    "## Putting it all together"
   ]
  },
  {
   "cell_type": "code",
   "execution_count": null,
   "metadata": {},
   "outputs": [],
   "source": [
    "if __name__ == \"__main__\":\n",
    "    deck = Deck()\n",
    "    tracker = ScoreTracker()\n",
    "    \n",
    "    # Add some sample flashcards\n",
    "    deck.add_flashcard(Flashcard(\"Which pillar of OOP creates hierarchy and allows code reuse?\", \"Inheritance\"))\n",
    "    deck.add_flashcard(Flashcard(\"Which pillar of OOP allows different objects to be treated as instances of the same class?\", \"Polymorphism\"))\n",
    "    deck.add_flashcard(Flashcard(\"Which pillar of OOP involves hiding the internal state of objects?\", \"Encapsulation\", [\"Abstraction\", \"Encapsulation\", \"Inheritance\", \"Polymorphism\"], q_type='multiple_choice'))\n",
    "    deck.add_flashcard(Flashcard(\"Which pillar of OOP involves creating simple models to represent complex systems?\", \"Abstraction\"))\n",
    "\n",
    "    # Start a quiz session\n",
    "    session = QuizSession(deck)\n",
    "    session.start_session()\n",
    "    \n",
    "    # Record the score\n",
    "    tracker.record_score(session.score)\n",
    "    \n",
    "    # Display the score history\n",
    "    tracker.display_scores()\n"
   ]
  }
 ],
 "metadata": {
  "kernelspec": {
   "display_name": "scratch",
   "language": "python",
   "name": "python3"
  },
  "language_info": {
   "codemirror_mode": {
    "name": "ipython",
    "version": 3
   },
   "file_extension": ".py",
   "mimetype": "text/x-python",
   "name": "python",
   "nbconvert_exporter": "python",
   "pygments_lexer": "ipython3",
   "version": "3.10.13"
  }
 },
 "nbformat": 4,
 "nbformat_minor": 2
}

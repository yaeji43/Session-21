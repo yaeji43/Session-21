{
 "cells": [
  {
   "cell_type": "markdown",
   "metadata": {},
   "source": [
    "# Demo: The Pillars of OOP\n",
    "\n",
    "The pillars of OOP are principles that guide the design and implementation of object oriented systems. These concepts help ensure that your code is modular, reusable, and maintainable."
   ]
  },
  {
   "cell_type": "code",
   "execution_count": null,
   "metadata": {},
   "outputs": [],
   "source": [
    "# Ignore this! Just need this next line to ignore linter warnings in my editor :)\n",
    "# ruff: noqa\n",
    "\n",
    "# Notes to self, when presenting: (⌘+K,Z for zen mode; ⌘+J to toggle terminal)"
   ]
  },
  {
   "cell_type": "markdown",
   "metadata": {},
   "source": [
    "## Introduction"
   ]
  },
  {
   "cell_type": "markdown",
   "metadata": {},
   "source": [
    "### Basic terminology"
   ]
  },
  {
   "cell_type": "markdown",
   "metadata": {},
   "source": [
    "- **Attributes:** \n",
    "  - Variables that hold data about the object. \n",
    "  - They represent the state or properties of the object.\n",
    "- **Methods:** \n",
    "  - Functions defined within a class that describe the behaviors of the object. \n",
    "  - They can modify the object's state and/or perform actions using its attributes.\n",
    "- **Class:** \n",
    "  - A blueprint for creating objects. \n",
    "  - It defines a set of attributes (data) and methods (functions) that the created objects will have.\n",
    "- **Object:** \n",
    "  - An instance of a class. \n",
    "  - When a class is instantiated, it creates an object.\n",
    "- **Instantiation:** \n",
    "  - The process of creating an instance (object) from a class.\n",
    "- **Constructor:** \n",
    "  - A special method (`__init__`) that is called when an object is instantiated. \n",
    "  - It initializes the object's attributes.\n",
    "- **Self:** \n",
    "  - A reference to the current instance of the class. \n",
    "  - It is used to access attributes and methods from within the class."
   ]
  },
  {
   "cell_type": "markdown",
   "metadata": {},
   "source": [
    "### Basic syntax"
   ]
  },
  {
   "cell_type": "code",
   "execution_count": null,
   "metadata": {},
   "outputs": [],
   "source": [
    "class ClassName: # note the PascalCase (everything else is snake_case)\n",
    "    def __init__(self, x, y): # this is the constructor\n",
    "        self.x = x  # these are attributes\n",
    "        self.y = y  # these are attributes\n",
    "\n",
    "    def method_name(self, z): # this is a method\n",
    "        return self.x + self.y + z\n",
    "\n",
    "my_instance = ClassName(1, 2) # this is an instance of the class\n",
    "print(my_instance.method_name(3)) # prints 6"
   ]
  },
  {
   "cell_type": "markdown",
   "metadata": {},
   "source": [
    "## 0: Starter Code"
   ]
  },
  {
   "cell_type": "code",
   "execution_count": null,
   "metadata": {},
   "outputs": [],
   "source": [
    "if __name__ == \"__main__\":\n",
    "    contents_of_blender = []\n",
    "    is_blender_plugged_in = False\n",
    "    blender_capacity = 5\n",
    "\n",
    "    # add banana to blender, but only after it's peeled\n",
    "    def peel_banana():\n",
    "        print(\"Peeling banana\")\n",
    "    \n",
    "    peel_banana()\n",
    "    contents_of_blender.append(\"banana\")\n",
    "    print(\"Added banana to blender\")\n",
    "\n",
    "    # add strawberry to blender, but only after washing and de-leafing\n",
    "    def wash_strawberry():\n",
    "        print(\"Washing strawberry\")\n",
    "\n",
    "    def deleaf_strawberry():\n",
    "        print(\"De-leafing strawberry\")\n",
    "    \n",
    "    wash_strawberry()\n",
    "    deleaf_strawberry()\n",
    "    contents_of_blender.append(\"strawberry\")\n",
    "    print(\"Added strawberry to blender\")\n",
    "\n",
    "    # check if blender is full - we've already added 2 whole things!\n",
    "    if len(contents_of_blender) >= blender_capacity:\n",
    "        print(\"Blender is full!\")\n",
    "\n",
    "    # add another strawberry to blender\n",
    "    wash_strawberry()\n",
    "    deleaf_strawberry()\n",
    "    contents_of_blender.append(\"strawberry\")\n",
    "    print(\"Added another strawberry to blender\")\n",
    "\n",
    "    # let's say we're ready to blend\n",
    "    # check if blender is plugged in - if not, plug it in\n",
    "    def plug_blender_in():\n",
    "        print(\"Plugging blender in\")\n",
    "        return True\n",
    "    \n",
    "    if not is_blender_plugged_in:\n",
    "        is_blender_plugged_in = plug_blender_in()\n",
    "\n",
    "    # if blender is too full, we can't close the lid\n",
    "    if len(contents_of_blender) > blender_capacity:\n",
    "        print(\"Blender is too full to blend!\")\n",
    "\n",
    "    # blend contents\n",
    "    print(\"Blending contents\")\n",
    "    print(f\"Made smoothie out of: {contents_of_blender}\")"
   ]
  },
  {
   "cell_type": "code",
   "execution_count": null,
   "metadata": {},
   "outputs": [],
   "source": [
    "# Let's start by writing some scaffolding for the objects we'll want to use:\n",
    "\n"
   ]
  },
  {
   "cell_type": "markdown",
   "metadata": {},
   "source": [
    "## 1: Encapsulation\n",
    "\n",
    "→ Keep object-related information inside the object\n",
    "\n",
    "→ Expose only the necessary information\n"
   ]
  },
  {
   "cell_type": "markdown",
   "metadata": {},
   "source": [
    "**Description:** Encapsulation is the bundling of attributes and methods that operate on the data into a single unit, typically a class. It restricts direct access to some of the object's components, which can prevent the accidental modification of data.\n",
    "\n",
    "**Purpose:** The main purpose is to hide the internal state of the object and require all interaction to be performed through an object's methods. This is also known as information hiding.\n",
    "\n",
    "**Benefits:** \n",
    "- Improved Code Maintainability: By restricting access to internal states, it makes the code easier to maintain and modify.\n",
    "- Enhanced Security: Prevents unintended interference and misuse of the object’s internal state.\n",
    "- Simplifies Debugging: Errors are easier to trace and fix because the object's behavior is controlled through well-defined interfaces.\n"
   ]
  },
  {
   "cell_type": "code",
   "execution_count": null,
   "metadata": {},
   "outputs": [],
   "source": [
    "# Now let's encapsulate. Let's bundle everything first, then restrict access in ways that might mitigate\n",
    "# electrocution and over-filled blenders:\n",
    "\n"
   ]
  },
  {
   "cell_type": "markdown",
   "metadata": {},
   "source": [
    "### Notes on privacy:"
   ]
  },
  {
   "cell_type": "markdown",
   "metadata": {},
   "source": [
    "Private attributes and methods can (or should) only be accessed internally.\n",
    "\n",
    "We can indicate privacy with leading underscores, but note, there's no way in Python to truly enforce privacy.\n",
    "\n",
    "**Single leading underscore:** \n",
    "- eg, `_my_attribute`\n",
    "- weak \"internal use\" indicator\n",
    "- `from M import *` does not import objects whose name starts with an underscore\n",
    "- convention to indicate to programmers that the attribute or method is intended for internal use\n",
    "\n",
    "**Double leading underscore (aka, dunder):**\n",
    "- eg, `__my_other_attribute`\n",
    "- This is \"name mangling,\" and it essentially renames the attribute to avoid name clashes in subclasses\n",
    "- The interpreter changes the name by adding `_ClassName` at the beginning. For example, `__my_other_attribute` in class `MyClass` becomes `_MyClass__my_other_attribute`\n",
    "- This provides a stronger indicator of intended privacy and makes it harder to accidentally override private attributes in subclasses\n",
    "- Read more at the [Python docs](https://docs.python.org/3/tutorial/classes.html#private-variables)"
   ]
  },
  {
   "cell_type": "code",
   "execution_count": null,
   "metadata": {},
   "outputs": [],
   "source": [
    "class MyClass:\n",
    "    def __init__(self):\n",
    "        self._x = \"slightly private!\"\n",
    "        self.__y = \"very private!\"\n",
    "\n",
    "my_instance = MyClass()\n",
    "print(my_instance._x) # prints \"slightly private\"\n",
    "print(my_instance.__y) # raises AttributeError: 'MyClass' object has no attribute '__y'\n",
    "#print(my_instance._MyClass__y) # technically prints \"very private!\", but this really shouldn't be done"
   ]
  },
  {
   "cell_type": "markdown",
   "metadata": {},
   "source": [
    "## Pillar 2: Abstraction\n",
    "\n",
    "→ Reveal only relevant data/functions\n",
    "\n",
    "→ Hide any unnecessary details\n"
   ]
  },
  {
   "cell_type": "markdown",
   "metadata": {},
   "source": [
    "**Description:** Abstraction involves creating simple models (or abstract representations) of complex real-world entities by focusing on the essential qualities rather than the specific characteristics.\n",
    "\n",
    "**Purpose:** The main purpose is to reduce complexity and allow efficient design and implementation by providing only the necessary details and hiding the unnecessary details.\n",
    "\n",
    "**Benefits:**\n",
    "- Reduced Complexity: Simplifies complex systems by breaking them down into manageable parts.\n",
    "- Enhanced Focus: Allows developers to focus on high-level functionalities without worrying about low-level implementation details.\n",
    "- Improved Code Flexibility: Makes it easier to implement changes and updates since the interface is separated from the implementation.\n"
   ]
  },
  {
   "cell_type": "code",
   "execution_count": null,
   "metadata": {},
   "outputs": [],
   "source": [
    "# Let's add some abstraction. Here, let's consider keeping the user safe from electrocution, as well \n",
    "# as simplifying how we deal with strawberries:\n",
    "\n"
   ]
  },
  {
   "cell_type": "markdown",
   "metadata": {},
   "source": [
    "## Pillar 3: Inheritance\n",
    "\n",
    "→ Reuse code from parent classes\n",
    "\n",
    "→ Establish hierarchy between classes"
   ]
  },
  {
   "cell_type": "markdown",
   "metadata": {},
   "source": [
    "**Description:** Inheritance allows a class (called a subclass or derived class) to inherit attributes and methods from another class (called a superclass or base class). This promotes code reuse.\n",
    "\n",
    "**Purpose:** The main purpose is to create a new class that is based on an existing class to reuse code, and to establish a natural hierarchy between classes.\n",
    "\n",
    "**Benefits:**\n",
    "- Code Reusability: Promotes reuse of existing code, which reduces redundancy.\n",
    "- Simplified Code Maintenance: Changes made to the superclass automatically propagate to subclasses.\n",
    "- Natural Hierarchy: Alludes to real-world relationships and hierarchies in a clear and organized manner."
   ]
  },
  {
   "cell_type": "code",
   "execution_count": null,
   "metadata": {},
   "outputs": [],
   "source": [
    "# Now it's time for inheritance. Let's consider a more general class for all fruits, which could contain\n",
    "# preparation statuses, wash, and representation methods:\n",
    "\n"
   ]
  },
  {
   "cell_type": "markdown",
   "metadata": {},
   "source": [
    "## Pillar 4: Polymorphism\n",
    "\n",
    "→ Share behaviors across objects\n",
    "\n",
    "→ There are two types: static (method/operator overloading) and dynamic (method overriding); Python is best suited for dynamic\n"
   ]
  },
  {
   "cell_type": "markdown",
   "metadata": {},
   "source": [
    "**Description:** Polymorphism allows objects of different classes to be treated as objects of a common super class. In Python, it is typically implemented via method overriding (where a subclass provides a specific implementation of a method that is already defined in its superclass).\n",
    "\n",
    "**Purpose:** The main purpose is to allow one interface to be used for a general class of actions, making it easier to write code that works on the general type rather than a specific instance.\n",
    "\n",
    "**Benefits:**\n",
    "- Flexibility and Extensibility: Makes it easier to extend and modify code by allowing new classes to be added with minimal changes to existing code.\n",
    "- Simplified Code: Reduces complexity by allowing one interface to handle different data types and method implementations.\n",
    "- Improved Code Readability: Encourages clear and concise code by promoting the use of common interfaces."
   ]
  },
  {
   "cell_type": "code",
   "execution_count": null,
   "metadata": {},
   "outputs": [],
   "source": [
    "# Finally, let's consider polymorphism. Let's make an abstract method for prepare, and implement it in\n",
    "# banana as well. Additionally, let's demonstrate operator overloading via the __add__ method:\n",
    "\n"
   ]
  },
  {
   "cell_type": "markdown",
   "metadata": {},
   "source": [
    "## Combining These Concepts"
   ]
  },
  {
   "cell_type": "markdown",
   "metadata": {},
   "source": [
    "### Abstract Base Classes (ABCs) = Abstraction + Inheritance\n",
    "\n",
    "Abstract Base Classes (ABCs) in Python provide a way to define abstract methods that must be implemented by any subclass. They are used to define a common interface for a group of related classes. An abstract base class cannot be instantiated on its own and serves as a blueprint for other classes.\n",
    "\n",
    "Key Points:\n",
    "\n",
    "- ABCs ensure that derived classes implement specific methods, enforcing a contract for subclasses.\n",
    "- ABCs are defined using the abc module in Python.\n",
    "- Methods declared with the `@abstractmethod` decorator must be implemented by subclasses.\n",
    "- You cannot create an instance of an abstract base class directly."
   ]
  },
  {
   "cell_type": "code",
   "execution_count": 8,
   "metadata": {},
   "outputs": [
    {
     "name": "stdout",
     "output_type": "stream",
     "text": [
      "Woof!\n",
      "Meow!\n"
     ]
    }
   ],
   "source": [
    "from abc import ABC, abstractmethod\n",
    "\n",
    "class Animal(ABC):\n",
    "    @abstractmethod\n",
    "    def make_sound(self):\n",
    "        pass\n",
    "\n",
    "class Dog(Animal):\n",
    "    def make_sound(self):\n",
    "        return \"Woof!\"\n",
    "\n",
    "class Cat(Animal):\n",
    "    def make_sound(self):\n",
    "        return \"Meow!\"\n",
    "\n",
    "# Example usage:\n",
    "# animal = Animal()  # This will raise a TypeError\n",
    "dog = Dog()\n",
    "cat = Cat()\n",
    "print(dog.make_sound())  # Output: Woof!\n",
    "print(cat.make_sound())  # Output: Meow!"
   ]
  },
  {
   "cell_type": "markdown",
   "metadata": {},
   "source": [
    "### Mixin Classes = Inheritance + Encapsulation\n",
    "\n",
    "Mixins are a form of multiple inheritance where a class can inherit attributes and methods from multiple parent classes, encapsulating shared functionality in reusable components."
   ]
  },
  {
   "cell_type": "code",
   "execution_count": 10,
   "metadata": {},
   "outputs": [
    {
     "name": "stdout",
     "output_type": "stream",
     "text": [
      "LOG: Dog is making a sound\n",
      "Woof!\n"
     ]
    }
   ],
   "source": [
    "class LoggerMixin:\n",
    "    def log(self, message):\n",
    "        print(f\"LOG: {message}\")\n",
    "\n",
    "class Animal:\n",
    "    def make_sound(self):\n",
    "        pass\n",
    "\n",
    "class Dog(Animal, LoggerMixin):\n",
    "    def make_sound(self):\n",
    "        self.log(\"Dog is making a sound\")\n",
    "        return \"Woof!\"\n",
    "\n",
    "dog = Dog()\n",
    "print(dog.make_sound())  # Output: LOG: Dog is making a sound \\n Woof!"
   ]
  },
  {
   "cell_type": "markdown",
   "metadata": {},
   "source": [
    "## Final Remarks"
   ]
  },
  {
   "cell_type": "markdown",
   "metadata": {},
   "source": [
    "### Summary\n",
    "\n",
    "1. **Objects** are instantiations of classes; **classes** are blueprints that define attributes and methods.\n",
    "\n",
    "3. **Encapsulation** keeps object-related info inside the object, and sometimes makes it private.\n",
    "\n",
    "4. **Abstraction** hides distracting details about implementation.\n",
    "\n",
    "5. **Inheritance** creates hiearchies between objects, and encourages code reuse.\n",
    "\n",
    "6. **Polymorphism** shares behavior across objects, via both overloading and overriding."
   ]
  },
  {
   "cell_type": "markdown",
   "metadata": {},
   "source": [
    "### Criticisms\n",
    "\n",
    "- **Focus on Objects:** May overshadow algorithms and functional aspects.\n",
    "\n",
    "- **Time-Consuming:** Can be time-consuming to write and compile.\n",
    "\n",
    "- **Steeper Learning Curve:** Concepts can be difficult for beginners.\n",
    "\n",
    "- **Overhead:** Performance overhead due to abstraction layers.\n",
    "\n",
    "- **Complexity:** Can lead to complex and tightly coupled class hierarchies.\n"
   ]
  },
  {
   "cell_type": "markdown",
   "metadata": {},
   "source": [
    "### Benefits\n",
    "\n",
    "- **Modularity:** Self-contained objects; easier debugging and collaboration.\n",
    "\n",
    "- **Reusability:** Inheritance allows code reuse.\n",
    "\n",
    "- **Scalability:** Implement different functionalities independently.\n",
    "\n",
    "- **Flexibility:** Polymorphism enables object interchangeability.\n",
    "\n",
    "- **Maintainability:** Clear modular structure simplifies updates and maintenance.\n",
    "\n",
    "- **Real-World Modeling:** Natural mapping to real-world entities."
   ]
  },
  {
   "cell_type": "markdown",
   "metadata": {},
   "source": [
    "![title](img/a_smoothie.jpg)"
   ]
  }
 ],
 "metadata": {
  "kernelspec": {
   "display_name": "scratch",
   "language": "python",
   "name": "python3"
  },
  "language_info": {
   "codemirror_mode": {
    "name": "ipython",
    "version": 3
   },
   "file_extension": ".py",
   "mimetype": "text/x-python",
   "name": "python",
   "nbconvert_exporter": "python",
   "pygments_lexer": "ipython3",
   "version": "3.10.13"
  }
 },
 "nbformat": 4,
 "nbformat_minor": 2
}

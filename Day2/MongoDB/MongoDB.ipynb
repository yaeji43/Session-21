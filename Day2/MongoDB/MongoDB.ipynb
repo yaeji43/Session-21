{
 "cells": [
  {
   "cell_type": "code",
   "execution_count": null,
   "id": "d3197b78",
   "metadata": {
    "slideshow": {
     "slide_type": "skip"
    }
   },
   "outputs": [],
   "source": [
    "import pymongo\n",
    "import pandas\n",
    "from pprint import pprint\n",
    "\n",
    "# Connect\n",
    "client = pymongo.MongoClient(host=\"mongo\", port=27017, username=\"imdb\", password=\"imdb_admin\")"
   ]
  },
  {
   "cell_type": "code",
   "execution_count": null,
   "id": "3bf2fa0d-59e3-4b5c-9f2e-4d88be939ed3",
   "metadata": {},
   "outputs": [],
   "source": [
    "df1 = pandas.read_csv(\"IMDB-movies.csv\")\n",
    "df2 = pandas.read_csv(\"IMDB-directors.csv\")\n",
    "df3 = pandas.read_csv(\"IMDB-movies_directors.csv\")\n",
    "df4 = pandas.read_csv(\"IMDB-movies_genres.csv\")\n",
    "df5 = df4.merge(df1).merge(df3).merge(df2)\n",
    "\n",
    "df4 = df4.merge(df1)\n",
    "df3 = df3.merge(df1).merge(df2)\n",
    "\n",
    "db = client['imdb_database']\n",
    "collection1 = db['imdb_movies']\n",
    "collection2 = db['imdb_directors']\n",
    "collection3 = db['imdb_movies_directors']\n",
    "collection4 = db['imdb_movies_genres']\n",
    "collection5 = db['imdb_movies_directors_genres']\n",
    "\n",
    "\n",
    "df1.reset_index(inplace=True)\n",
    "data_dict = df1.to_dict(\"records\")# Insert collection\n",
    "collection1.insert_many(data_dict)\n",
    "\n",
    "df2.reset_index(inplace=True)\n",
    "data_dict = df2.to_dict(\"records\")# Insert collection\n",
    "collection2.insert_many(data_dict)\n",
    "\n",
    "df3.reset_index(inplace=True)\n",
    "data_dict = df3.to_dict(\"records\")# Insert collection\n",
    "collection3.insert_many(data_dict)\n",
    "\n",
    "df4.reset_index(inplace=True)\n",
    "data_dict = df4.to_dict(\"records\")# Insert collection\n",
    "collection4.insert_many(data_dict)\n",
    "\n",
    "df5.reset_index(inplace=True)\n",
    "data_dict = df5.to_dict(\"records\")# Insert collection\n",
    "collection5.insert_many(data_dict)\n",
    "print(\"done!\")"
   ]
  },
  {
   "cell_type": "markdown",
   "id": "41cd95a9",
   "metadata": {
    "slideshow": {
     "slide_type": "slide"
    },
    "tags": []
   },
   "source": [
    "# Introduction to MongoDB (MongoDB Query Language)\n",
    "\n",
    "##### Version 0.1\n",
    "\n",
    "***\n",
    "\n",
    "By Scott Coughlin (Northwestern IT Research Computing Services)  \n",
    "20 July 2022"
   ]
  },
  {
   "cell_type": "markdown",
   "id": "9e64ba9d",
   "metadata": {
    "slideshow": {
     "slide_type": "slide"
    }
   },
   "source": [
    "In our introduction to MongoDB we will start with queries of existing tables."
   ]
  },
  {
   "cell_type": "markdown",
   "id": "82fdb8d7",
   "metadata": {
    "slideshow": {
     "slide_type": "slide"
    }
   },
   "source": [
    "## Problem 1) IMDb Data"
   ]
  },
  {
   "cell_type": "markdown",
   "id": "04689f26",
   "metadata": {
    "slideshow": {
     "slide_type": "slide"
    }
   },
   "source": [
    "Throughout the session we will use information from the [Internet Movie Database (IMDb)](https://www.imdb.com/) to illustrate various principles regarding databases."
   ]
  },
  {
   "cell_type": "markdown",
   "id": "3d0e4d76",
   "metadata": {
    "slideshow": {
     "slide_type": "subslide"
    }
   },
   "source": [
    "A quick note on the provenance of this data. The files we have used to populate this data set are from [this website](https://relational.fit.cvut.cz/dataset/IMDb) and it may not be a list of every single movie on IMDb (there are no movies after 2004)."
   ]
  },
  {
   "cell_type": "markdown",
   "id": "f1a05846-0b88-4f43-b72c-ae8b4fcf5d19",
   "metadata": {},
   "source": [
    "For this exercise there are 5 collections, \n",
    "```\n",
    "collection1 = db['imdb_movies']\n",
    "collection2 = db['imdb_directors']\n",
    "collection3 = db['imdb_movies_directors']\n",
    "collection4 = db['imdb_movies_genres']\n",
    "collection5 = db['imdb_movies_directors_genres']\n",
    "```\n",
    "To make things simple, I have already performed the necessary steps to \"join\" the information from imdb_movies and imdb_directories together to make a bigger collection \"imdb_movies_directors\" and so on"
   ]
  },
  {
   "cell_type": "markdown",
   "id": "d88ddef6-9e0e-4cf4-8df6-d35bf9cf3665",
   "metadata": {},
   "source": [
    "#### HELPFUL TIP: Convery all resulting queries to a pandas.DataFrame by wrapping the `pymongo` query in\n",
    "\n",
    "```\n",
    "df = pandas.DataFrame(list(db.imdb_movies_genres.find())\n",
    "print(df)\n",
    "\t_id \tindex \tdirector_id \tfirst_name \tlast_name\n",
    "0 \t62da05f8e5d6d03453887957 \t70115 \t71645 \tMartin \tScorsese\n",
    "```\n",
    "\n",
    "### Second Helpful Tip: See the MongoDB SQL to Mongo mapping information to help: https://www.mongodb.com/docs/manual/reference/sql-comparison/"
   ]
  },
  {
   "cell_type": "code",
   "execution_count": null,
   "id": "cb0c86c5-2b33-4cfb-8991-feac16bc36e1",
   "metadata": {},
   "outputs": [],
   "source": [
    "pandas.DataFrame(list(db.imdb_directors.find({\"last_name\" : \"Scorsese\"})))"
   ]
  },
  {
   "cell_type": "markdown",
   "id": "3eb22b82",
   "metadata": {
    "slideshow": {
     "slide_type": "slide"
    }
   },
   "source": [
    "**Problem 1a**\n",
    "\n",
    "Using pymongo, SELECT 10 movies from the imbd_movies table. Select 10 directors from imbd_directors and order by `first_name`."
   ]
  },
  {
   "cell_type": "code",
   "execution_count": null,
   "id": "135a2600-8d4e-40fb-ba93-7bf2aa23c5de",
   "metadata": {},
   "outputs": [],
   "source": []
  },
  {
   "cell_type": "code",
   "execution_count": null,
   "id": "9e27e331-8aa1-4642-bd1b-4d330fa5ed9a",
   "metadata": {},
   "outputs": [],
   "source": []
  },
  {
   "cell_type": "markdown",
   "id": "0b998ad2",
   "metadata": {
    "slideshow": {
     "slide_type": "slide"
    }
   },
   "source": [
    "**Problem 1b**\n",
    "\n",
    "Using pymongo, how many movies are there? How many directors are there? "
   ]
  },
  {
   "cell_type": "code",
   "execution_count": null,
   "id": "d5333751-e6d6-4267-8892-ccba463ffa8a",
   "metadata": {},
   "outputs": [],
   "source": []
  },
  {
   "cell_type": "code",
   "execution_count": null,
   "id": "2af0e751-de93-404d-ab7e-6fe8b133601e",
   "metadata": {},
   "outputs": [],
   "source": []
  },
  {
   "cell_type": "markdown",
   "id": "afdecb03",
   "metadata": {
    "slideshow": {
     "slide_type": "slide"
    }
   },
   "source": [
    "*Write your answer here*"
   ]
  },
  {
   "cell_type": "markdown",
   "id": "5f33700f-c337-4516-b159-8cbe4be5c124",
   "metadata": {
    "slideshow": {
     "slide_type": "slide"
    }
   },
   "source": [
    "**Problem 1c**\n",
    "\n",
    "Using pymongo, determine how many movies are there after the year 2000?"
   ]
  },
  {
   "cell_type": "code",
   "execution_count": null,
   "id": "0df316bb-1990-4516-9f75-e87d107edabe",
   "metadata": {},
   "outputs": [],
   "source": []
  },
  {
   "cell_type": "markdown",
   "id": "14af7e69-2db0-480e-bc6f-9b28964167e1",
   "metadata": {
    "slideshow": {
     "slide_type": "slide"
    }
   },
   "source": [
    "*Write your answer here*"
   ]
  },
  {
   "cell_type": "markdown",
   "id": "3dfbf89f",
   "metadata": {
    "slideshow": {
     "slide_type": "slide"
    }
   },
   "source": [
    "**Problem 1d**\n",
    "\n",
    "How many different movie genres are there?"
   ]
  },
  {
   "cell_type": "code",
   "execution_count": null,
   "id": "e4763794-2e16-496a-8b43-90b25145bd86",
   "metadata": {},
   "outputs": [],
   "source": []
  },
  {
   "cell_type": "markdown",
   "id": "a225e9a5",
   "metadata": {
    "slideshow": {
     "slide_type": "slide"
    }
   },
   "source": [
    "*Write your answer here*"
   ]
  },
  {
   "cell_type": "markdown",
   "id": "895a7e0f",
   "metadata": {
    "slideshow": {
     "slide_type": "slide"
    }
   },
   "source": [
    "## Problem 2) Groups and Aggregates"
   ]
  },
  {
   "cell_type": "markdown",
   "id": "514a9758",
   "metadata": {
    "slideshow": {
     "slide_type": "slide"
    }
   },
   "source": [
    "Now that we know why the data has been organized in this way, we can leverage this unique structure in order to learn interesting properties of the data. "
   ]
  },
  {
   "cell_type": "markdown",
   "id": "48868d33",
   "metadata": {
    "slideshow": {
     "slide_type": "slide"
    }
   },
   "source": [
    "**Problem 2a**\n",
    "\n",
    "In which year were the most movies made according to IMDb?"
   ]
  },
  {
   "cell_type": "code",
   "execution_count": null,
   "id": "ce06d8bc-1eae-4a97-bb02-03a2de9de563",
   "metadata": {},
   "outputs": [],
   "source": []
  },
  {
   "cell_type": "markdown",
   "id": "71d8aafa",
   "metadata": {},
   "source": [
    "*write your answer here*"
   ]
  },
  {
   "cell_type": "markdown",
   "id": "412a5096-7370-4191-a0ff-7fc09b4c9581",
   "metadata": {
    "slideshow": {
     "slide_type": "slide"
    }
   },
   "source": [
    "**Problem 2b**\n",
    "\n",
    "How many \"Action\" movies where made after the year 1980? Before the year 1980?"
   ]
  },
  {
   "cell_type": "code",
   "execution_count": null,
   "id": "6c3eb8ed-8fbc-4267-b255-d2ef444146c6",
   "metadata": {},
   "outputs": [],
   "source": []
  },
  {
   "cell_type": "code",
   "execution_count": null,
   "id": "2730beff-369a-4c73-a577-4c27fdc72050",
   "metadata": {},
   "outputs": [],
   "source": []
  },
  {
   "cell_type": "markdown",
   "id": "f5b7cc4d-511a-4b7a-8f22-1c012d5e85d0",
   "metadata": {},
   "source": [
    "*write your answer here*"
   ]
  },
  {
   "cell_type": "markdown",
   "id": "dbd359c1-4220-4d23-8a2c-0b0caf2c0428",
   "metadata": {
    "slideshow": {
     "slide_type": "slide"
    }
   },
   "source": [
    "**Problem 3c**\n",
    "\n",
    "Select all films made by `Scorsese`. How many are there?"
   ]
  },
  {
   "cell_type": "code",
   "execution_count": null,
   "id": "48e05be5-8e45-47e1-a6a1-d741db56ba8c",
   "metadata": {},
   "outputs": [],
   "source": []
  },
  {
   "cell_type": "markdown",
   "id": "efbb3935-7fbc-43d4-b4d6-860efdf33d0b",
   "metadata": {},
   "source": [
    "*write your answer here*"
   ]
  },
  {
   "cell_type": "markdown",
   "id": "8af9b49b-b2f7-433c-ab3c-ce5dc70791e3",
   "metadata": {
    "slideshow": {
     "slide_type": "slide"
    }
   },
   "source": [
    "**Problem 3c**\n",
    "\n",
    "According the the IMDb data, which director has directed the most movies?"
   ]
  },
  {
   "cell_type": "code",
   "execution_count": null,
   "id": "037ac64c-f67d-4dad-bf6e-cc3040d14bf4",
   "metadata": {},
   "outputs": [],
   "source": []
  },
  {
   "cell_type": "markdown",
   "id": "e9e4b01c-a043-4ab7-8ef6-a1b8a4a6c39f",
   "metadata": {},
   "source": [
    "*write your answer here*"
   ]
  },
  {
   "cell_type": "markdown",
   "id": "aaaa4de6-e7ec-411b-83e3-ea0f0e6a3992",
   "metadata": {
    "slideshow": {
     "slide_type": "slide"
    }
   },
   "source": [
    "**Problem 3d**\n",
    "\n",
    "According the the IMDb data, which director has directed the most movies in each genre?"
   ]
  },
  {
   "cell_type": "code",
   "execution_count": null,
   "id": "490fec59-b4b3-445e-b3a3-0fd91714ccf7",
   "metadata": {},
   "outputs": [],
   "source": []
  },
  {
   "cell_type": "markdown",
   "id": "7da2c752-3f3d-44ee-8e8c-075aa9d87dc9",
   "metadata": {},
   "source": [
    "*write your answer here*"
   ]
  },
  {
   "cell_type": "markdown",
   "id": "56a386a8",
   "metadata": {
    "slideshow": {
     "slide_type": "slide"
    }
   },
   "source": [
    "## Challenge Problem) Make your own tables"
   ]
  },
  {
   "cell_type": "markdown",
   "id": "7d248de8-d4c1-432f-b684-824f92e4170b",
   "metadata": {
    "slideshow": {
     "slide_type": "slide"
    }
   },
   "source": [
    "**Problem 1a**\n",
    "\n",
    "Create a new \"collection\"."
   ]
  },
  {
   "cell_type": "code",
   "execution_count": null,
   "id": "0b5de22d-a6fd-40cc-b049-e9c80096d6fd",
   "metadata": {},
   "outputs": [],
   "source": []
  },
  {
   "cell_type": "markdown",
   "id": "22230b1a-c201-4e9e-a6a5-e7d73e48f73d",
   "metadata": {
    "slideshow": {
     "slide_type": "slide"
    }
   },
   "source": [
    "**Problem 1b**\n",
    "\n",
    "INSERT 3 \"documentions\" into the \"collection you made above"
   ]
  },
  {
   "cell_type": "code",
   "execution_count": null,
   "id": "f3729463-01a9-4a95-bb12-688ad87c0ef7",
   "metadata": {},
   "outputs": [],
   "source": []
  },
  {
   "cell_type": "markdown",
   "id": "e824e54e-1537-465e-8491-34e8f13d92c3",
   "metadata": {
    "slideshow": {
     "slide_type": "slide"
    }
   },
   "source": [
    "**Problem 1c**\n",
    "\n",
    "Create a pandas DataFrame and save the rows as \"documents\" in a new \"collection\" you make\n",
    "\n",
    "*** hint look at using `pandas.to_dict` ****"
   ]
  },
  {
   "cell_type": "code",
   "execution_count": null,
   "id": "7c5ad202-7105-4da0-acc5-855c7d7fc4b6",
   "metadata": {},
   "outputs": [],
   "source": []
  }
 ],
 "metadata": {
  "celltoolbar": "Slideshow",
  "kernelspec": {
   "display_name": "Python 3 (ipykernel)",
   "language": "python",
   "name": "python3"
  },
  "language_info": {
   "codemirror_mode": {
    "name": "ipython",
    "version": 3
   },
   "file_extension": ".py",
   "mimetype": "text/x-python",
   "name": "python",
   "nbconvert_exporter": "python",
   "pygments_lexer": "ipython3",
   "version": "3.10.14"
  },
  "livereveal": {
   "height": 768,
   "scroll": true,
   "start_slideshow_at": "selected",
   "theme": "solarized",
   "width": 1024
  }
 },
 "nbformat": 4,
 "nbformat_minor": 5
}

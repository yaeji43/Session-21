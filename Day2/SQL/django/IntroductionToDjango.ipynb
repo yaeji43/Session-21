{
 "cells": [
  {
   "cell_type": "code",
   "execution_count": null,
   "id": "19ed16be-e90d-4b1a-843a-c5835de9b1e1",
   "metadata": {},
   "outputs": [],
   "source": [
    "!/Session21/Day2/django/manage.py makemigrations\n",
    "!/Session21/Day2/django/manage.py migrate"
   ]
  },
  {
   "cell_type": "code",
   "execution_count": null,
   "id": "bcb51acf-0efd-47e8-a1bc-e66db307131d",
   "metadata": {},
   "outputs": [],
   "source": [
    "from imdb.models import ImdbMovies, ImdbDirectors, ImdbMoviesGenre, ImdbMoviesDirectors\n",
    "import pandas"
   ]
  },
  {
   "cell_type": "code",
   "execution_count": null,
   "id": "ad7acb7a-45df-4536-84d8-87bbac1e87f2",
   "metadata": {},
   "outputs": [],
   "source": [
    "df_movies = pandas.read_csv(\"../IMDB-movies.csv\")\n",
    "df_directors = pandas.read_csv(\"../IMDB-directors.csv\")\n",
    "df_directors_movies = pandas.read_csv(\"../IMDB-movies_directors.csv\")\n",
    "df_movies_genre = pandas.read_csv(\"../IMDB-movies_genres.csv\")"
   ]
  },
  {
   "cell_type": "markdown",
   "id": "88c4720b-890a-4d5e-a39e-23e9b2ed99f7",
   "metadata": {},
   "source": [
    "# Insert Imdb Directors into the Django `imdb_directors` table"
   ]
  },
  {
   "cell_type": "code",
   "execution_count": null,
   "id": "98422bb5-568a-42fa-8773-46e3c2bae828",
   "metadata": {},
   "outputs": [],
   "source": [
    "directors = [\n",
    "    ImdbDirectors(\n",
    "        director_id = row['director_id'],\n",
    "        first_name = row['first_name'],\n",
    "        last_name = row['last_name'],\n",
    "    )\n",
    "    for idx, row  in df_directors.iterrows()\n",
    "]\n",
    "ImdbDirectors.objects.bulk_create(directors)\n",
    "print(\"Inserted Directories in Django imdb_directors Table\")"
   ]
  },
  {
   "cell_type": "markdown",
   "id": "f4419a7e-b64d-422e-950e-b83a105c3aca",
   "metadata": {},
   "source": [
    "# Insert Imdb Movies into the Django `imdb_movies` table"
   ]
  },
  {
   "cell_type": "code",
   "execution_count": null,
   "id": "ed05c53b-2913-4849-a1ba-cbf1ecb0d62f",
   "metadata": {},
   "outputs": [],
   "source": [
    "movies = [\n",
    "    ImdbMovies(\n",
    "        movie_id = row['movie_id'],\n",
    "        name = row['name'],\n",
    "        year = row['year'],\n",
    "        rank = row['rank'],\n",
    "    )\n",
    "    for idx, row  in df_movies.iterrows()\n",
    "]\n",
    "ImdbMovies.objects.bulk_create(movies)\n",
    "print(\"Inserted Movies in the Django imdb_movies database\")"
   ]
  },
  {
   "cell_type": "markdown",
   "id": "5d641e92-1d52-4337-b46c-e83353851bc3",
   "metadata": {},
   "source": [
    "# Insert Imdb Movies and Directors into the Django `imdb_movies_directors` table"
   ]
  },
  {
   "cell_type": "code",
   "execution_count": null,
   "id": "06448b43-2c80-4233-8705-3ca269310f5e",
   "metadata": {},
   "outputs": [],
   "source": [
    "movies_directors = [\n",
    "    ImdbMoviesDirectors(\n",
    "        movie_id = ImdbMovies.objects.get(pk=row['movie_id']),\n",
    "        director_id = ImdbDirectors.objects.get(pk=row['director_id']),\n",
    "    )\n",
    "    for idx, row  in df_directors_movies.merge(df_movies).iterrows()\n",
    "]\n",
    "ImdbMoviesDirectors.objects.bulk_create(movies_directors)\n",
    "print(\"Inserted Imdb Movies and Directories in the Django imdb_movies_directors database\")"
   ]
  },
  {
   "cell_type": "markdown",
   "id": "8cf4ba6a-30e0-4bb1-bbf4-5d0d3fc07b88",
   "metadata": {},
   "source": [
    "# Insert Imdb Movies and Genres into the Django `imdb_movies_genre` table"
   ]
  },
  {
   "cell_type": "code",
   "execution_count": null,
   "id": "3da84cfc-d2f4-4770-b5ec-340230fa59c0",
   "metadata": {},
   "outputs": [],
   "source": [
    "movies_genre = [\n",
    "    ImdbMoviesGenre(\n",
    "        movie_id = ImdbMovies.objects.get(pk=row['movie_id']),\n",
    "        genre = row['genre'],\n",
    "    )\n",
    "    for idx, row  in df_movies_genre.iterrows()\n",
    "]\n",
    "ImdbMoviesGenre.objects.bulk_create(movies_genre)\n",
    "print(\"Inserted Imdb Movies and Genres in the Django imdb_movies_genre database\")"
   ]
  },
  {
   "cell_type": "markdown",
   "id": "c8895ce8-37e5-419a-b520-5a70b659784e",
   "metadata": {},
   "source": [
    "## Below we perform the same exercises as what we did with SQL, but with Django\n",
    "Highly recommend looking through the [Django documentation](https://docs.djangoproject.com/en/5.0/topics/db/queries/#retrieving-specific-objects-with-filters)."
   ]
  },
  {
   "cell_type": "markdown",
   "id": "c0888b52-c737-407e-90c9-e82059e01bf1",
   "metadata": {
    "slideshow": {
     "slide_type": "slide"
    }
   },
   "source": [
    "**Problem 1a**\n",
    "\n",
    "Using Django, SELECT 10 movies from the imbd_movies table. Select 10 directors from imbd_directors and order by `first_name`."
   ]
  },
  {
   "cell_type": "code",
   "execution_count": null,
   "id": "7f046ed2-2907-485f-b62f-9553ea6cde04",
   "metadata": {},
   "outputs": [],
   "source": []
  },
  {
   "cell_type": "code",
   "execution_count": null,
   "id": "0e2f8091-e83c-4854-a03b-e684f0dcfe60",
   "metadata": {},
   "outputs": [],
   "source": []
  },
  {
   "cell_type": "markdown",
   "id": "daa1e5f7-e3a8-4937-a63e-b34e14157f80",
   "metadata": {
    "slideshow": {
     "slide_type": "slide"
    }
   },
   "source": [
    "**Problem 1b**\n",
    "\n",
    "Using Django, how many movies are there? How many directors are there? "
   ]
  },
  {
   "cell_type": "code",
   "execution_count": null,
   "id": "1f9adeaa-f7c0-4abb-98bf-b6a06f660914",
   "metadata": {},
   "outputs": [],
   "source": []
  },
  {
   "cell_type": "code",
   "execution_count": null,
   "id": "bc3bf0b2-1c36-43cb-8964-5ce3637b732e",
   "metadata": {},
   "outputs": [],
   "source": []
  },
  {
   "cell_type": "markdown",
   "id": "6413607c-c20c-4642-affa-1dd7a160dda3",
   "metadata": {
    "slideshow": {
     "slide_type": "slide"
    }
   },
   "source": [
    "*Write your answer here*"
   ]
  },
  {
   "cell_type": "markdown",
   "id": "1592a301-cdb7-4fb3-aeee-984523863740",
   "metadata": {
    "slideshow": {
     "slide_type": "slide"
    }
   },
   "source": [
    "**Problem 1c**\n",
    "\n",
    "Using Django, determine how many movies are there after the year 2000?"
   ]
  },
  {
   "cell_type": "code",
   "execution_count": null,
   "id": "ff4b27c5-fc3b-4a60-8bfe-373e406c18f1",
   "metadata": {},
   "outputs": [],
   "source": []
  },
  {
   "cell_type": "markdown",
   "id": "8d993482-ccc1-41b5-a75d-e81c5ef9507c",
   "metadata": {
    "slideshow": {
     "slide_type": "slide"
    }
   },
   "source": [
    "*Write your answer here*"
   ]
  },
  {
   "cell_type": "markdown",
   "id": "e4eac756-02ab-48b5-a832-37afe9071088",
   "metadata": {
    "slideshow": {
     "slide_type": "slide"
    }
   },
   "source": [
    "**Problem 1d**\n",
    "\n",
    "Using Django, how many different movie genres are there?"
   ]
  },
  {
   "cell_type": "code",
   "execution_count": null,
   "id": "11809904-5b84-45a3-b927-c7d87888a15c",
   "metadata": {},
   "outputs": [],
   "source": []
  },
  {
   "cell_type": "markdown",
   "id": "c72b66fa-e01b-4971-8702-895e57642556",
   "metadata": {
    "slideshow": {
     "slide_type": "slide"
    }
   },
   "source": [
    "*Write your answer here*"
   ]
  },
  {
   "cell_type": "markdown",
   "id": "1da6e2db-47c0-4145-818d-c74f5f1389c9",
   "metadata": {
    "slideshow": {
     "slide_type": "slide"
    }
   },
   "source": [
    "## Problem 2) Joins"
   ]
  },
  {
   "cell_type": "markdown",
   "id": "12f2c53e-6bab-47be-9e0a-8830a15233ea",
   "metadata": {
    "slideshow": {
     "slide_type": "slide"
    }
   },
   "source": [
    "We started this exercise with a goal of being efficient. And yet, the data have been organized across 4 different files (each sheet is effectively a unique csv file).  "
   ]
  },
  {
   "cell_type": "markdown",
   "id": "f88a4c0e-a58d-4b5e-8fb5-62c9701b510a",
   "metadata": {
    "slideshow": {
     "slide_type": "slide"
    }
   },
   "source": [
    "**Problem 2a**\n",
    "\n",
    "Using Django, join `imdb_movies` and `imdb_movies_genres` together"
   ]
  },
  {
   "cell_type": "code",
   "execution_count": null,
   "id": "db42b76c-82b8-4641-b56f-7b51dd354fd4",
   "metadata": {},
   "outputs": [],
   "source": []
  },
  {
   "cell_type": "markdown",
   "id": "1a7b8a62-6c5c-4bf8-96aa-5760c910927b",
   "metadata": {
    "slideshow": {
     "slide_type": "slide"
    }
   },
   "source": [
    "*write your answer here*"
   ]
  },
  {
   "cell_type": "markdown",
   "id": "367dbed1-080f-4a8c-8066-6acb0fe7eba5",
   "metadata": {
    "slideshow": {
     "slide_type": "slide"
    }
   },
   "source": [
    "**Problem 2b**\n",
    "\n",
    "Using Django, join `imdb_movies`, `imdb_movies_directors` and `imdb_directors` together"
   ]
  },
  {
   "cell_type": "code",
   "execution_count": null,
   "id": "fbd97b45-08dc-49ef-897c-f39d246bc527",
   "metadata": {},
   "outputs": [],
   "source": []
  },
  {
   "cell_type": "markdown",
   "id": "5ada7bc5-920b-48f2-950a-b62acee22e7b",
   "metadata": {
    "slideshow": {
     "slide_type": "slide"
    }
   },
   "source": [
    "*write your answer here*"
   ]
  },
  {
   "cell_type": "markdown",
   "id": "7549bd62-d4bf-4078-9139-8a6b3136cf0f",
   "metadata": {
    "slideshow": {
     "slide_type": "slide"
    }
   },
   "source": [
    "## Problem 3) Groups and Aggregates"
   ]
  },
  {
   "cell_type": "markdown",
   "id": "e0d45609-bdde-4aac-8538-0bbf071f98ef",
   "metadata": {
    "slideshow": {
     "slide_type": "slide"
    }
   },
   "source": [
    "Now that we know why the data has been organized in this way, we can leverage this unique structure in order to learn interesting properties of the data. "
   ]
  },
  {
   "cell_type": "markdown",
   "id": "1cc0eee3-27f0-4c8b-8a8f-f7bad9cba80c",
   "metadata": {
    "slideshow": {
     "slide_type": "slide"
    }
   },
   "source": [
    "**Problem 3a**\n",
    "\n",
    "In which year were the most movies made according to IMDb?"
   ]
  },
  {
   "cell_type": "code",
   "execution_count": null,
   "id": "3d63e881-d43d-4bf7-b9c4-8bf0a71226b6",
   "metadata": {},
   "outputs": [],
   "source": []
  },
  {
   "cell_type": "markdown",
   "id": "ef46b34b-4581-4853-b9b1-2711a39b0a4f",
   "metadata": {},
   "source": [
    "*write your answer here*"
   ]
  },
  {
   "cell_type": "markdown",
   "id": "e376e91d-4e2a-4982-949b-7c93da4c4713",
   "metadata": {
    "slideshow": {
     "slide_type": "slide"
    }
   },
   "source": [
    "**Problem 3b**\n",
    "\n",
    "How many \"Action\" movies where made after the year 1980? Before the year 1980?"
   ]
  },
  {
   "cell_type": "code",
   "execution_count": null,
   "id": "b013f958-2f54-4179-9b99-69f112bb81e4",
   "metadata": {},
   "outputs": [],
   "source": []
  },
  {
   "cell_type": "code",
   "execution_count": null,
   "id": "0ae32a90-0b7a-4a74-ab66-3c26c6f0e51b",
   "metadata": {},
   "outputs": [],
   "source": []
  },
  {
   "cell_type": "markdown",
   "id": "75e02b10-252f-4d75-8a5f-49a6a808d8fb",
   "metadata": {},
   "source": [
    "*write your answer here*"
   ]
  },
  {
   "cell_type": "markdown",
   "id": "38e521f5-0b22-4ab4-8a61-d67c745ee750",
   "metadata": {
    "slideshow": {
     "slide_type": "slide"
    }
   },
   "source": [
    "**Problem 3c**\n",
    "\n",
    "Select all films made by `Scorsese`. How many are there?"
   ]
  },
  {
   "cell_type": "code",
   "execution_count": null,
   "id": "6e38c1af-29d7-4124-b170-20d41bbca22b",
   "metadata": {},
   "outputs": [],
   "source": []
  },
  {
   "cell_type": "markdown",
   "id": "cc682c47-b04c-4e73-ab01-de4508d0361a",
   "metadata": {},
   "source": [
    "*write your answer here*"
   ]
  },
  {
   "cell_type": "markdown",
   "id": "c46ab053-6e3a-4170-a8b4-0c161ed9bdf5",
   "metadata": {
    "slideshow": {
     "slide_type": "slide"
    }
   },
   "source": [
    "**Problem 3c**\n",
    "\n",
    "According the the IMDb data, which director has directed the most movies?"
   ]
  },
  {
   "cell_type": "code",
   "execution_count": null,
   "id": "b8dcbe3d-48e7-4a51-b4da-38cbd43ca1eb",
   "metadata": {},
   "outputs": [],
   "source": []
  },
  {
   "cell_type": "markdown",
   "id": "3cb3a307-4172-460f-8e8e-896bf8d9da7c",
   "metadata": {},
   "source": [
    "*write your answer here*"
   ]
  },
  {
   "cell_type": "markdown",
   "id": "5ac5811f-ce4f-4665-bd13-a9cb91476bf1",
   "metadata": {
    "slideshow": {
     "slide_type": "slide"
    }
   },
   "source": [
    "**Problem 3d**\n",
    "\n",
    "According the the IMDb data, which director has directed the most movies in each genre?"
   ]
  },
  {
   "cell_type": "code",
   "execution_count": null,
   "id": "7604bdf9-f38d-46e0-b235-c4927cbd8dfe",
   "metadata": {},
   "outputs": [],
   "source": []
  },
  {
   "cell_type": "markdown",
   "id": "51542589-7810-4493-8797-aca9aee2fd19",
   "metadata": {},
   "source": [
    "*write your answer here*"
   ]
  },
  {
   "cell_type": "markdown",
   "id": "7bf86094-0d3a-48f2-ab10-25a82814ab85",
   "metadata": {
    "slideshow": {
     "slide_type": "slide"
    }
   },
   "source": [
    "## Challenge Problem) Create your own Django model"
   ]
  },
  {
   "cell_type": "markdown",
   "id": "278a339e-4154-4ca0-ab23-362453dddab1",
   "metadata": {
    "slideshow": {
     "slide_type": "slide"
    }
   },
   "source": [
    "**Problem 1a**\n",
    "\n",
    "Create a new model (table) called `liked_imdb_movies` with columns `liked_moved`, `movie_id`"
   ]
  },
  {
   "cell_type": "code",
   "execution_count": null,
   "id": "34a2c51c-460b-47ff-89d4-681abf1381fe",
   "metadata": {},
   "outputs": [],
   "source": []
  },
  {
   "cell_type": "markdown",
   "id": "b775c45f-5c83-425f-b0e0-3a84ba66ad1f",
   "metadata": {
    "slideshow": {
     "slide_type": "slide"
    }
   },
   "source": [
    "**Problem 1b**\n",
    "\n",
    "INSERT 3 rows into the TABLE you made above"
   ]
  },
  {
   "cell_type": "code",
   "execution_count": null,
   "id": "4f1ddea5-bb3a-4d5f-a4ad-26e68580b1f3",
   "metadata": {},
   "outputs": [],
   "source": []
  },
  {
   "cell_type": "markdown",
   "id": "f5fe9016-6cc3-4eb3-81da-2c49544e922f",
   "metadata": {
    "slideshow": {
     "slide_type": "slide"
    }
   },
   "source": [
    "**Problem 1c**\n",
    "\n",
    "Create a pandas DataFrame and save as a SQL table\n",
    "\n",
    "*** hint look at the `pandas.to_sql` documentation and note that we already made a \"connection\" variable called `connection` ***"
   ]
  },
  {
   "cell_type": "code",
   "execution_count": null,
   "id": "66aa8325-65bf-4620-ac26-b9169cd38e85",
   "metadata": {},
   "outputs": [],
   "source": []
  }
 ],
 "metadata": {
  "kernelspec": {
   "display_name": "Python 3 (ipykernel)",
   "language": "python",
   "name": "python3"
  },
  "language_info": {
   "codemirror_mode": {
    "name": "ipython",
    "version": 3
   },
   "file_extension": ".py",
   "mimetype": "text/x-python",
   "name": "python",
   "nbconvert_exporter": "python",
   "pygments_lexer": "ipython3",
   "version": "3.10.14"
  }
 },
 "nbformat": 4,
 "nbformat_minor": 5
}

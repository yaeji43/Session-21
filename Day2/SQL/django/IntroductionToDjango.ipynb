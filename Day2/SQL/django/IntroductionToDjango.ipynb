{
 "cells": [
  {
   "cell_type": "code",
   "execution_count": null,
   "id": "19ed16be-e90d-4b1a-843a-c5835de9b1e1",
   "metadata": {},
   "outputs": [],
   "source": [
    "!/Session21/Day2/django/manage.py makemigrations\n",
    "!/Session21/Day2/django/manage.py migrate"
   ]
  },
  {
   "cell_type": "code",
   "execution_count": null,
   "id": "bcb51acf-0efd-47e8-a1bc-e66db307131d",
   "metadata": {},
   "outputs": [],
   "source": [
    "from imdb.models import ImdbMovies, ImdbDirectors, ImdbMoviesGenre, ImdbMoviesDirectors\n",
    "import pandas"
   ]
  },
  {
   "cell_type": "code",
   "execution_count": null,
   "id": "ad7acb7a-45df-4536-84d8-87bbac1e87f2",
   "metadata": {},
   "outputs": [],
   "source": [
    "df_movies = pandas.read_csv(\"../IMDB-movies.csv\")\n",
    "df_directors = pandas.read_csv(\"../IMDB-directors.csv\")\n",
    "df_directors_movies = pandas.read_csv(\"../IMDB-movies_directors.csv\")\n",
    "df_movies_genre = pandas.read_csv(\"../IMDB-movies_genres.csv\")"
   ]
  },
  {
   "cell_type": "markdown",
   "id": "88c4720b-890a-4d5e-a39e-23e9b2ed99f7",
   "metadata": {},
   "source": [
    "# Insert Imdb Directors into the Django `imdb_directors` table"
   ]
  },
  {
   "cell_type": "code",
   "execution_count": null,
   "id": "98422bb5-568a-42fa-8773-46e3c2bae828",
   "metadata": {},
   "outputs": [],
   "source": [
    "directors = [\n",
    "    ImdbDirectors(\n",
    "        director_id = row['director_id'],\n",
    "        first_name = row['first_name'],\n",
    "        last_name = row['last_name'],\n",
    "    )\n",
    "    for idx, row  in df_directors.iterrows()\n",
    "]\n",
    "ImdbDirectors.objects.bulk_create(directors)\n",
    "print(\"Inserted Directories in Django imdb_directors Table\")"
   ]
  },
  {
   "cell_type": "markdown",
   "id": "f4419a7e-b64d-422e-950e-b83a105c3aca",
   "metadata": {},
   "source": [
    "# Insert Imdb Movies into the Django `imdb_movies` table"
   ]
  },
  {
   "cell_type": "code",
   "execution_count": null,
   "id": "ed05c53b-2913-4849-a1ba-cbf1ecb0d62f",
   "metadata": {},
   "outputs": [],
   "source": [
    "movies = [\n",
    "    ImdbMovies(\n",
    "        movie_id = row['movie_id'],\n",
    "        name = row['name'],\n",
    "        year = row['year'],\n",
    "        rank = row['rank'],\n",
    "    )\n",
    "    for idx, row  in df_movies.iterrows()\n",
    "]\n",
    "ImdbMovies.objects.bulk_create(movies)\n",
    "print(\"Inserted Movies in the Django imdb_movies database\")"
   ]
  },
  {
   "cell_type": "markdown",
   "id": "5d641e92-1d52-4337-b46c-e83353851bc3",
   "metadata": {},
   "source": [
    "# Insert Imdb Movies and Directors into the Django `imdb_movies_directors` table"
   ]
  },
  {
   "cell_type": "code",
   "execution_count": null,
   "id": "06448b43-2c80-4233-8705-3ca269310f5e",
   "metadata": {},
   "outputs": [],
   "source": [
    "movies_directors = [\n",
    "    ImdbMoviesDirectors(\n",
    "        movie_id = ImdbMovies.objects.get(pk=row['movie_id']),\n",
    "        director_id = ImdbDirectors.objects.get(pk=row['director_id']),\n",
    "    )\n",
    "    for idx, row  in df_directors_movies.merge(df_movies).iterrows()\n",
    "]\n",
    "ImdbMoviesDirectors.objects.bulk_create(movies_directors)\n",
    "print(\"Inserted Imdb Movies and Directories in the Django imdb_movies_directors database\")"
   ]
  },
  {
   "cell_type": "markdown",
   "id": "8cf4ba6a-30e0-4bb1-bbf4-5d0d3fc07b88",
   "metadata": {},
   "source": [
    "# Insert Imdb Movies and Genres into the Django `imdb_movies_genre` table"
   ]
  },
  {
   "cell_type": "code",
   "execution_count": null,
   "id": "3da84cfc-d2f4-4770-b5ec-340230fa59c0",
   "metadata": {},
   "outputs": [],
   "source": [
    "movies_genre = [\n",
    "    ImdbMoviesGenre(\n",
    "        movie_id = ImdbMovies.objects.get(pk=row['movie_id'])\n",
    "        genre = row['genre'],\n",
    "    )\n",
    "    for idx, row  in df_movies_genre.iterrows()\n",
    "]\n",
    "ImdbMoviesGenre.objects.bulk_create(movies_genre)\n",
    "print(\"Inserted Imdb Movies and Genres in the Django imdb_movies_genre database\")"
   ]
  }
 ],
 "metadata": {
  "kernelspec": {
   "display_name": "Python 3 (ipykernel)",
   "language": "python",
   "name": "python3"
  },
  "language_info": {
   "codemirror_mode": {
    "name": "ipython",
    "version": 3
   },
   "file_extension": ".py",
   "mimetype": "text/x-python",
   "name": "python",
   "nbconvert_exporter": "python",
   "pygments_lexer": "ipython3",
   "version": "3.10.14"
  }
 },
 "nbformat": 4,
 "nbformat_minor": 5
}
